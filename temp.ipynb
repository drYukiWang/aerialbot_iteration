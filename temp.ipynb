{
 "metadata": {
  "language_info": {
   "codemirror_mode": {
    "name": "ipython",
    "version": 3
   },
   "file_extension": ".py",
   "mimetype": "text/x-python",
   "name": "python",
   "nbconvert_exporter": "python",
   "pygments_lexer": "ipython3",
   "version": "3.8.3-final"
  },
  "orig_nbformat": 2,
  "kernelspec": {
   "name": "python3",
   "display_name": "Python 3",
   "language": "python"
  }
 },
 "nbformat": 4,
 "nbformat_minor": 2,
 "cells": [
  {
   "cell_type": "code",
   "execution_count": 26,
   "metadata": {},
   "outputs": [],
   "source": [
    "from math import cos, pi\n",
    "import numpy as np \n",
    "import pandas as pd \n",
    "\n",
    "\n",
    "def compute_gps_list(clat, clon, distance, num):\n",
    "    \"\"\"\n",
    "    to approximately compute the gps coordinates of a distance km X distance km area divided by 20 by 20 grid cells, given the (lat, lon) pair of the central point of interest\n",
    "\n",
    "    Parameters\n",
    "    ----------\n",
    "    clat: lat of the central reference point\n",
    "    clon: lon of the central reference point\n",
    "    distance: length of the area of interest\n",
    "    num: number of cell divisions in one direction, eg. num=10, means 10 X 10 grid cells; we aim to keep each grid cell at 0.5km X 0.5km\n",
    "\n",
    "    Returns\n",
    "    -------\n",
    "    df_gps: contains all 400 gps coordinates in the 10km X 10km region\n",
    "\n",
    "    \"\"\"\n",
    "    alpha = (180/pi) * (distance/6370)\n",
    "\n",
    "    phi = alpha * cos(clat * (pi/180))\n",
    "\n",
    "    min_lat = clat - alpha / 2\n",
    "    max_lat = clat + alpha / 2\n",
    "    min_lon = clon - phi / 2 \n",
    "    max_lon = clon + phi / 2\n",
    "\n",
    "    # generate 20 X 20 grid cells\n",
    "    lat_arr = np.linspace(min_lat, max_lat, num)\n",
    "    lon_arr = np.linspace(min_lon, max_lon, num)\n",
    "\n",
    "    data_list = []\n",
    "    for lat in lat_arr:\n",
    "        for lon in lon_arr:\n",
    "            latlon_dict = {\"lat\": lat, \"lon\": lon}\n",
    "            data_list.append(latlon_dict)\n",
    "\n",
    "    df_gps = pd.DataFrame(data_list)\n",
    "\n",
    "    return df_gps\n"
   ]
  },
  {
   "cell_type": "code",
   "execution_count": 27,
   "metadata": {},
   "outputs": [],
   "source": [
    "clat = 21.255079\n",
    "clon = 79.163345\n",
    "df_gps = compute_gps_list(clat, clon, 5, 10)\n",
    "df_gps.to_csv('gps_list_Mahajan_5km.csv', index = False)\n",
    "\n",
    "    "
   ]
  },
  {
   "cell_type": "code",
   "execution_count": 24,
   "metadata": {},
   "outputs": [
    {
     "output_type": "stream",
     "name": "stdout",
     "text": [
      "/home/yuchang/Dev/aerialbot\n"
     ]
    }
   ],
   "source": [
    "!pwd"
   ]
  },
  {
   "cell_type": "code",
   "execution_count": 44,
   "metadata": {},
   "outputs": [],
   "source": [
    "coords = []\n",
    "for row in range(df_gps.shape[0]):\n",
    "    lat = df_gps.iloc[row]['lat']\n",
    "    lon = df_gps.iloc[row]['lon']\n",
    "    coord = (lat, lon)\n",
    "    coords.append(coord)\n"
   ]
  },
  {
   "cell_type": "code",
   "execution_count": 47,
   "metadata": {},
   "outputs": [
    {
     "output_type": "stream",
     "name": "stdout",
     "text": [
      "(21.232592430332385, 79.14238806265688)\n(21.232592430332385, 79.14704515984424)\n(21.232592430332385, 79.1517022570316)\n(21.232592430332385, 79.15635935421896)\n(21.232592430332385, 79.16101645140633)\n(21.232592430332385, 79.16567354859369)\n(21.232592430332385, 79.17033064578105)\n(21.232592430332385, 79.17498774296841)\n(21.232592430332385, 79.17964484015577)\n(21.232592430332385, 79.18430193734314)\n(21.237589445814077, 79.14238806265688)\n(21.237589445814077, 79.14704515984424)\n(21.237589445814077, 79.1517022570316)\n(21.237589445814077, 79.15635935421896)\n(21.237589445814077, 79.16101645140633)\n(21.237589445814077, 79.16567354859369)\n(21.237589445814077, 79.17033064578105)\n(21.237589445814077, 79.17498774296841)\n(21.237589445814077, 79.17964484015577)\n(21.237589445814077, 79.18430193734314)\n(21.24258646129577, 79.14238806265688)\n(21.24258646129577, 79.14704515984424)\n(21.24258646129577, 79.1517022570316)\n(21.24258646129577, 79.15635935421896)\n(21.24258646129577, 79.16101645140633)\n(21.24258646129577, 79.16567354859369)\n(21.24258646129577, 79.17033064578105)\n(21.24258646129577, 79.17498774296841)\n(21.24258646129577, 79.17964484015577)\n(21.24258646129577, 79.18430193734314)\n(21.24758347677746, 79.14238806265688)\n(21.24758347677746, 79.14704515984424)\n(21.24758347677746, 79.1517022570316)\n(21.24758347677746, 79.15635935421896)\n(21.24758347677746, 79.16101645140633)\n(21.24758347677746, 79.16567354859369)\n(21.24758347677746, 79.17033064578105)\n(21.24758347677746, 79.17498774296841)\n(21.24758347677746, 79.17964484015577)\n(21.24758347677746, 79.18430193734314)\n(21.252580492259153, 79.14238806265688)\n(21.252580492259153, 79.14704515984424)\n(21.252580492259153, 79.1517022570316)\n(21.252580492259153, 79.15635935421896)\n(21.252580492259153, 79.16101645140633)\n(21.252580492259153, 79.16567354859369)\n(21.252580492259153, 79.17033064578105)\n(21.252580492259153, 79.17498774296841)\n(21.252580492259153, 79.17964484015577)\n(21.252580492259153, 79.18430193734314)\n(21.257577507740844, 79.14238806265688)\n(21.257577507740844, 79.14704515984424)\n(21.257577507740844, 79.1517022570316)\n(21.257577507740844, 79.15635935421896)\n(21.257577507740844, 79.16101645140633)\n(21.257577507740844, 79.16567354859369)\n(21.257577507740844, 79.17033064578105)\n(21.257577507740844, 79.17498774296841)\n(21.257577507740844, 79.17964484015577)\n(21.257577507740844, 79.18430193734314)\n(21.262574523222536, 79.14238806265688)\n(21.262574523222536, 79.14704515984424)\n(21.262574523222536, 79.1517022570316)\n(21.262574523222536, 79.15635935421896)\n(21.262574523222536, 79.16101645140633)\n(21.262574523222536, 79.16567354859369)\n(21.262574523222536, 79.17033064578105)\n(21.262574523222536, 79.17498774296841)\n(21.262574523222536, 79.17964484015577)\n(21.262574523222536, 79.18430193734314)\n(21.267571538704228, 79.14238806265688)\n(21.267571538704228, 79.14704515984424)\n(21.267571538704228, 79.1517022570316)\n(21.267571538704228, 79.15635935421896)\n(21.267571538704228, 79.16101645140633)\n(21.267571538704228, 79.16567354859369)\n(21.267571538704228, 79.17033064578105)\n(21.267571538704228, 79.17498774296841)\n(21.267571538704228, 79.17964484015577)\n(21.267571538704228, 79.18430193734314)\n(21.27256855418592, 79.14238806265688)\n(21.27256855418592, 79.14704515984424)\n(21.27256855418592, 79.1517022570316)\n(21.27256855418592, 79.15635935421896)\n(21.27256855418592, 79.16101645140633)\n(21.27256855418592, 79.16567354859369)\n(21.27256855418592, 79.17033064578105)\n(21.27256855418592, 79.17498774296841)\n(21.27256855418592, 79.17964484015577)\n(21.27256855418592, 79.18430193734314)\n(21.277565569667612, 79.14238806265688)\n(21.277565569667612, 79.14704515984424)\n(21.277565569667612, 79.1517022570316)\n(21.277565569667612, 79.15635935421896)\n(21.277565569667612, 79.16101645140633)\n(21.277565569667612, 79.16567354859369)\n(21.277565569667612, 79.17033064578105)\n(21.277565569667612, 79.17498774296841)\n(21.277565569667612, 79.17964484015577)\n(21.277565569667612, 79.18430193734314)\n"
     ]
    }
   ],
   "source": [
    "for coord in coords:\n",
    "    print(coord)"
   ]
  },
  {
   "cell_type": "code",
   "execution_count": 66,
   "metadata": {},
   "outputs": [],
   "source": [
    "clat, clon, dist, num = input(\"Enter the lat, lon, distance and number of grid cells: \").split()"
   ]
  },
  {
   "cell_type": "code",
   "execution_count": 67,
   "metadata": {},
   "outputs": [],
   "source": [
    "clat = float(clat)\n",
    "clon = float(clon)\n",
    "dist = float(dist)\n",
    "num = int(num)"
   ]
  },
  {
   "cell_type": "code",
   "execution_count": 74,
   "metadata": {},
   "outputs": [],
   "source": [
    "cluster_name = input(\"Enter the cluster name: \")\n"
   ]
  },
  {
   "cell_type": "code",
   "execution_count": 75,
   "metadata": {},
   "outputs": [
    {
     "output_type": "execute_result",
     "data": {
      "text/plain": [
       "'Nagpur'"
      ]
     },
     "metadata": {},
     "execution_count": 75
    }
   ],
   "source": [
    "cluster_name"
   ]
  },
  {
   "cell_type": "code",
   "execution_count": 1,
   "metadata": {},
   "outputs": [
    {
     "output_type": "stream",
     "name": "stdout",
     "text": [
      "/home/yuchang/Dev/aerialbot_iteration\n"
     ]
    }
   ],
   "source": [
    "!pwd"
   ]
  },
  {
   "cell_type": "code",
   "execution_count": 2,
   "metadata": {},
   "outputs": [],
   "source": [
    "os.chdir('/home/yuchang/Dev/[trainingtest]KilnsCNN/TrainSetNew')"
   ]
  },
  {
   "cell_type": "code",
   "execution_count": 3,
   "metadata": {},
   "outputs": [
    {
     "output_type": "stream",
     "name": "stdout",
     "text": [
      "/home/yuchang/Dev/[trainingtest]KilnsCNN/TrainSetNew\n"
     ]
    }
   ],
   "source": [
    "!pwd"
   ]
  },
  {
   "cell_type": "code",
   "execution_count": 28,
   "metadata": {},
   "outputs": [],
   "source": [
    "# to get gps from image filenames\n",
    "\n",
    "import glob\n",
    "import pandas as pd\n",
    "\n",
    "list_latlon = []\n",
    "\n",
    "for img_name in glob.glob('./Yash/*.jpg'):\n",
    "  # print(img_name + '\\n')\n",
    "  # find comma\n",
    "  pos_comma = img_name.find(',')\n",
    "  pos_dash = ([pos for pos, char in enumerate(img_name) if char == '-'])\n",
    "  pos_lat_start = max([x for x in pos_dash if x < pos_comma]) + 1\n",
    "  pos_lat_end = pos_comma\n",
    "  # lon start from the comma to the nearest dash\n",
    "  pos_lon_start = pos_comma + 1\n",
    "  pos_lon_end = min([x for x in pos_dash if x > pos_comma])\n",
    "  # lat, lon\n",
    "  lat = img_name[pos_lat_start:pos_lat_end]\n",
    "  lon = img_name[pos_lon_start:pos_lon_end]\n",
    "  list_latlon.append({'lat': lat, 'lon': lon})\n",
    "\n",
    "df_yash = pd.DataFrame(list_latlon)\n",
    "# df.to_csv('/content/train_gps.csv', index=False)"
   ]
  },
  {
   "cell_type": "code",
   "execution_count": 30,
   "metadata": {},
   "outputs": [],
   "source": [
    "# df_yash"
   ]
  },
  {
   "cell_type": "code",
   "execution_count": 32,
   "metadata": {},
   "outputs": [
    {
     "output_type": "stream",
     "name": "stdout",
     "text": [
      "/home/yuchang/Dev/[trainingtest]KilnsCNN/TrainSetNew\n"
     ]
    }
   ],
   "source": [
    "!pwd"
   ]
  },
  {
   "cell_type": "code",
   "execution_count": 33,
   "metadata": {},
   "outputs": [],
   "source": [
    "df_nagpur = pd.concat([df_nagpur06, df_nagpur2, df_gopal, df_mahajan, df_nationalindustries, df_paul, df_VD, df_yash], ignore_index=True)\n",
    "\n",
    "df_nagpur.to_csv('Nagpur_gps.csv', index=False)"
   ]
  },
  {
   "cell_type": "code",
   "execution_count": null,
   "metadata": {},
   "outputs": [],
   "source": []
  }
 ]
}